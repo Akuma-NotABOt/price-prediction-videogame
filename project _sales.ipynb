{
 "cells": [
  {
   "cell_type": "code",
   "execution_count": null,
   "metadata": {},
   "outputs": [],
   "source": [
    "import pandas as pd\n",
    "import seaborn as sns\n",
    "import matplotlib.pyplot as plt\n",
    "from sklearn.model_selection import train_test_split\n",
    "from sklearn.linear_model import LinearRegression\n",
    "\n",
    "# Load the dataset\n",
    "data = pd.read_csv(\"../input/videogamesales/vgsales.csv\")\n",
    "\n",
    "# Drop rows with missing values after 2015\n",
    "data = data[data[\"Year\"] <= 2015]\n",
    "\n",
    "# Explore the dataset\n",
    "genre_counts = data[\"Genre\"].value_counts()\n",
    "top_genres = genre_counts.index[:10]"
   ]
  },
  {
   "cell_type": "code",
   "execution_count": null,
   "metadata": {},
   "outputs": [],
   "source": [
    "# Plot the count of games by genre\n",
    "plt.figure(figsize=(12, 6))\n",
    "sns.countplot(x=\"Genre\", data=data, order=top_genres, palette=\"viridis\")\n",
    "plt.xticks(rotation=45)\n",
    "plt.xlabel(\"Genre\")\n",
    "plt.ylabel(\"Count\")\n",
    "plt.title(\"Number of Games by Genre\")\n",
    "plt.show()"
   ]
  },
  {
   "cell_type": "code",
   "execution_count": null,
   "metadata": {},
   "outputs": [],
   "source": [
    "# Plot the count of games by year\n",
    "plt.figure(figsize=(12, 6))\n",
    "sns.countplot(x=\"Year\", data=data, palette=\"viridis\")\n",
    "plt.xticks(rotation=45)\n",
    "plt.xlabel(\"Year\")\n",
    "plt.ylabel(\"Count\")\n",
    "plt.title(\"Number of Games by Year\")\n",
    "plt.show()"
   ]
  },
  {
   "cell_type": "code",
   "execution_count": null,
   "metadata": {},
   "outputs": [],
   "source": [
    "# Determine the top genres released each year\n",
    "year_max_genre = data.groupby([\"Year\", \"Genre\"]).size().reset_index(name=\"Count\")\n",
    "year_max_genre = year_max_genre.loc[year_max_genre.groupby(\"Year\")[\"Count\"].idxmax()]"
   ]
  },
  {
   "cell_type": "code",
   "execution_count": null,
   "metadata": {},
   "outputs": [],
   "source": [
    "# Plot the top genres released each year\n",
    "plt.figure(figsize=(12, 6))\n",
    "sns.barplot(x=\"Year\", y=\"Count\", hue=\"Genre\", data=year_max_genre, palette=\"viridis\")\n",
    "plt.xticks(rotation=45)\n",
    "plt.xlabel(\"Year\")\n",
    "plt.ylabel(\"Count\")\n",
    "plt.title(\"Top Genres Released Each Year\")\n",
    "plt.legend(title=\"Genre\", loc=\"upper right\")\n",
    "plt.show()"
   ]
  },
  {
   "cell_type": "code",
   "execution_count": null,
   "metadata": {},
   "outputs": [],
   "source": [
    "# Visualize global sales by year\n",
    "yearly_sales = data.groupby(\"Year\")[\"Global_Sales\"].sum().reset_index()\n",
    "plt.figure(figsize=(12, 6))\n",
    "sns.barplot(x=\"Year\", y=\"Global_Sales\", data=yearly_sales, palette=\"viridis\")\n",
    "plt.xticks(rotation=45)\n",
    "plt.xlabel(\"Year\")\n",
    "plt.ylabel(\"Global Sales\")\n",
    "plt.title(\"Global Sales by Year\")\n",
    "plt.show()"
   ]
  },
  {
   "cell_type": "code",
   "execution_count": null,
   "metadata": {},
   "outputs": [],
   "source": [
    "# Load the dataset\n",
    "data = pd.read_csv(\"../input/videogamesales/vgsales.csv\")\n",
    "\n",
    "# Drop rows with missing values after 2015\n",
    "data = data[data[\"Year\"] <= 2015]\n",
    "\n",
    "# Preprocessing: Select relevant features and handle missing values\n",
    "features = ['Year', 'NA_Sales', 'EU_Sales', 'JP_Sales', 'Other_Sales']\n",
    "target = 'Global_Sales'\n",
    "data = data[features + [target]].dropna()\n",
    "\n",
    "# Split the data into features (X) and target variable (y)\n",
    "X = data[features]\n",
    "y = data[target]\n",
    "\n",
    "# Split the data into training and testing sets\n",
    "X_train, X_test, y_train, y_test = train_test_split(X, y, test_size=0.2)\n",
    "\n",
    "# Create a linear regression model\n",
    "model = LinearRegression()\n",
    "\n",
    "# Train the model\n",
    "model.fit(X_train, y_train)\n",
    "\n",
    "# Make predictions on the test set\n",
    "y_pred = model.predict(X_test)\n",
    "\n",
    "# Compare predicted and actual values\n",
    "predictions = pd.DataFrame({'Actual': y_test, 'Predicted': y_pred})\n",
    "print(predictions.head())"
   ]
  }
 ],
 "metadata": {
  "kernelspec": {
   "display_name": "Python 3 (ipykernel)",
   "language": "python",
   "name": "python3"
  },
  "language_info": {
   "codemirror_mode": {
    "name": "ipython",
    "version": 3
   },
   "file_extension": ".py",
   "mimetype": "text/x-python",
   "name": "python",
   "nbconvert_exporter": "python",
   "pygments_lexer": "ipython3",
   "version": "3.10.11"
  }
 },
 "nbformat": 4,
 "nbformat_minor": 4
}
